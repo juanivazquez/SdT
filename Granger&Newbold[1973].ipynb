{
  "nbformat": 4,
  "nbformat_minor": 0,
  "metadata": {
    "colab": {
      "provenance": [],
      "toc_visible": true,
      "authorship_tag": "ABX9TyNgjgYjwL636F/Z9F1/ptH6",
      "include_colab_link": true
    },
    "kernelspec": {
      "name": "python3",
      "display_name": "Python 3"
    },
    "language_info": {
      "name": "python"
    }
  },
  "cells": [
    {
      "cell_type": "markdown",
      "metadata": {
        "id": "view-in-github",
        "colab_type": "text"
      },
      "source": [
        "<a href=\"https://colab.research.google.com/github/juanivazquez/SdT/blob/main/Granger%26Newbold%5B1973%5D.ipynb\" target=\"_parent\"><img src=\"https://colab.research.google.com/assets/colab-badge.svg\" alt=\"Open In Colab\"/></a>"
      ]
    },
    {
      "cell_type": "markdown",
      "source": [
        "# **\"Spurious Regressions in Econometrics\"**\n",
        "\n",
        "*by Granger & Newbold (1973)*\n",
        "\n",
        "A Replication \n",
        "\n",
        "\n"
      ],
      "metadata": {
        "id": "M4j8kmjzkbMy"
      }
    },
    {
      "cell_type": "markdown",
      "source": [
        "# 0 Settings"
      ],
      "metadata": {
        "id": "HVgnfsREkoyq"
      }
    },
    {
      "cell_type": "code",
      "source": [
        "%load_ext rpy2.ipython\n",
        "%%R\n",
        "install.packages('fpp3')\n",
        "library(fpp3)"
      ],
      "metadata": {
        "id": "J6Yd1ohshlzt"
      },
      "execution_count": 1,
      "outputs": []
    },
    {
      "cell_type": "code",
      "source": [
        "# %%R\n",
        "# str(allPackage <- installed.packages())\n",
        "# allPackage [, c(1,3:5)]"
      ],
      "metadata": {
        "id": "R9rsC_Sgie58"
      },
      "execution_count": 29,
      "outputs": []
    },
    {
      "cell_type": "markdown",
      "source": [
        "# Lab\n",
        "\n"
      ],
      "metadata": {
        "id": "fiAMUIoIm0Ng"
      }
    },
    {
      "cell_type": "markdown",
      "source": [
        "## Exp. N°0 : Level White Noise"
      ],
      "metadata": {
        "id": "F8IuOPBanY-g"
      }
    },
    {
      "cell_type": "code",
      "source": [
        "%%R\n",
        "set.seed(238)\n",
        "t=50\n",
        "n_exp = 100\n",
        "exp_ls <- c()\n",
        "pval_ls <- c()\n",
        "r_sq_ls <- c()\n",
        "for (j in 1:n_exp) {\n",
        "  experimento <- tsibble(\n",
        "                        obs = 1:t,\n",
        "                        x = rnorm(t, mean = 0, sd = 1),\n",
        "                        y = rnorm(t, mean = 0, sd = 1),\n",
        "                        index = obs)\n",
        "\n",
        "  ajuste <- experimento %>% model(tslm = TSLM(y ~ x ))\n",
        "\n",
        "  pval = round(unname(unlist(glance(ajuste) %>% select(p_value))),3)\n",
        "  r_sq = round(unname(unlist(glance(ajuste) %>% select(r_squared))),3)\n",
        "  exp_ls <- append(exp_ls,j)\n",
        "  pval_ls <- append(pval_ls,pval)\n",
        "  r_sq_ls <- append(r_sq_ls,r_sq)\n",
        "}\n",
        "\n",
        "res_df = data.frame(exp=exp_ls,pvalues = pval_ls, rsquared = r_sq_ls)\n",
        "res_df <-res_df[order(-res_df$pvalues),]\n",
        "df_0 <- res_df\n",
        "\n",
        "sum(res_df$pvalues < 0.05)/n_exp"
      ],
      "metadata": {
        "id": "bRw5XlsvvloB",
        "colab": {
          "base_uri": "https://localhost:8080/"
        },
        "outputId": "025323bc-b3fa-4a9a-f66e-b5254751ef38"
      },
      "execution_count": 12,
      "outputs": [
        {
          "output_type": "stream",
          "name": "stdout",
          "text": [
            "[1] 0.05\n"
          ]
        }
      ]
    },
    {
      "cell_type": "markdown",
      "source": [
        "## Exp. N°1 : Random Walk Level"
      ],
      "metadata": {
        "id": "KmoLk_JloisR"
      }
    },
    {
      "cell_type": "code",
      "source": [
        "%%R\n",
        "set.seed(238)\n",
        "t = 50\n",
        "n_exp = 100\n",
        "exp_ls <- c()\n",
        "pval_ls <- c()\n",
        "r_sq_ls <- c()\n",
        "\n",
        "for (j in 1:n_exp) {\n",
        "  experimento <- tsibble(\n",
        "                        obs = 1:t,\n",
        "                        x = cumsum(sample(c(-1,1), size=t, replace=TRUE)),\n",
        "                        y = cumsum(sample(c(-1,1), size=t, replace=TRUE)),\n",
        "                        index = obs)\n",
        "\n",
        "  ajuste <- experimento %>%   model(tslm = TSLM(y ~ x ))\n",
        "  pval = round(unname(unlist(glance(ajuste) %>% select(p_value))),3)\n",
        "  r_sq = round(unname(unlist(glance(ajuste) %>% select(r_squared))),3)\n",
        "\n",
        "  exp_ls <- append(exp_ls,j)\n",
        "  pval_ls <- append(pval_ls,pval)\n",
        "  r_sq_ls <- append(r_sq_ls,r_sq)\n",
        "}\n",
        "\n",
        "res_df = data.frame(exp=exp_ls,pvalues = pval_ls, rsquared = r_sq_ls)\n",
        "\n",
        "res_df <-res_df[order(-res_df$pvalues),]\n",
        "df_1 <- res_df\n",
        "sum(res_df$pvalues < 0.05)/n_exp"
      ],
      "metadata": {
        "colab": {
          "base_uri": "https://localhost:8080/"
        },
        "id": "07SdfnrPojS4",
        "outputId": "72170ff6-deb0-4750-c11b-18a0cb32f084"
      },
      "execution_count": 18,
      "outputs": [
        {
          "output_type": "stream",
          "name": "stdout",
          "text": [
            "[1] 0.67\n"
          ]
        }
      ]
    },
    {
      "cell_type": "markdown",
      "source": [
        "## Exp. N°2 : Random Walk Change"
      ],
      "metadata": {
        "id": "8nCWZJENnBBh"
      }
    },
    {
      "cell_type": "code",
      "source": [
        "%%R\n",
        "set.seed(238)\n",
        "t = 50\n",
        "n_exp = 100\n",
        "exp_ls <- c()\n",
        "pval_ls <- c()\n",
        "r_sq_ls <- c()\n",
        "\n",
        "for (j in 1:n_exp) {\n",
        "  experimento <- tsibble(\n",
        "                        obs = 1:t,\n",
        "                        x_level = cumsum(sample(c(-1,1), size=t, replace=TRUE)),\n",
        "                        y_level = cumsum(sample(c(-1,1), size=t, replace=TRUE)),\n",
        "                        index = obs)\n",
        "  experimento$x <- c(NA, diff(experimento$x_level)) \n",
        "  experimento$y <- c(NA, diff(experimento$y_level)) \n",
        "  experimento   <- na.omit(experimento)\n",
        "  ajuste <- experimento %>%   model(tslm = TSLM(y ~ x ))\n",
        "  pval   <- round(unname(unlist(glance(ajuste) %>% select(p_value))),3)\n",
        "  r_sq   <- round(unname(unlist(glance(ajuste) %>% select(r_squared))),3)\n",
        "\n",
        "  exp_ls  <- append(exp_ls,j)\n",
        "  pval_ls <- append(pval_ls,pval)\n",
        "  r_sq_ls <- append(r_sq_ls,r_sq)\n",
        "}\n",
        "\n",
        "res_df = data.frame(exp=exp_ls,pvalues = pval_ls, rsquared = r_sq_ls)\n",
        "\n",
        "res_df <-res_df[order(-res_df$pvalues),]\n",
        "\n",
        "df_2 <- res_df\n",
        "\n",
        "sum(res_df$pvalues < 0.05)/n_exp\n"
      ],
      "metadata": {
        "colab": {
          "base_uri": "https://localhost:8080/"
        },
        "id": "ht2TZ5a6nCeX",
        "outputId": "25c2e027-5799-434c-cf23-039538831aaa"
      },
      "execution_count": 17,
      "outputs": [
        {
          "output_type": "stream",
          "name": "stdout",
          "text": [
            "[1] 0.03\n"
          ]
        }
      ]
    },
    {
      "cell_type": "code",
      "source": [
        "%%R\n",
        "ggplot(df_2) + \n",
        "    #geom_histogram(aes(x = df_0$pvalues, fill = \"White Noise Level\")) + \n",
        "    geom_histogram(aes(x = df_1$pvalues, fill = \"Random Walk Level\")) + \n",
        "    geom_histogram(aes(x = df_2$pvalues, fill = \"Random Walk Change\")) + \n",
        "    labs(x = \"\");"
      ],
      "metadata": {
        "colab": {
          "base_uri": "https://localhost:8080/",
          "height": 569
        },
        "id": "ypX_RnPRpUVE",
        "outputId": "fa360ddd-fe1d-4789-94ed-703350c4ad04"
      },
      "execution_count": 27,
      "outputs": [
        {
          "output_type": "stream",
          "name": "stderr",
          "text": [
            "WARNING:rpy2.rinterface_lib.callbacks:R[write to console]: `stat_bin()` using `bins = 30`. Pick better value with `binwidth`.\n",
            "\n",
            "WARNING:rpy2.rinterface_lib.callbacks:R[write to console]: `stat_bin()` using `bins = 30`. Pick better value with `binwidth`.\n",
            "\n"
          ]
        },
        {
          "output_type": "display_data",
          "data": {
            "image/png": "[encoded data removed]"
          },
          "metadata": {}
        }
      ]
    },
    {
      "cell_type": "code",
      "source": [
        "%%R\n",
        "ggplot(df_2) + \n",
        "    #geom_histogram(aes(x = df_0$rsquared, fill = \"White Noise Level\")) + \n",
        "    geom_histogram(aes(x = df_1$rsquared, fill = \"Random Walk Level\")) + \n",
        "    geom_histogram(aes(x = df_2$rsquared, fill = \"Random Walk Change\")) + \n",
        "    labs(x = \"\")"
      ],
      "metadata": {
        "colab": {
          "base_uri": "https://localhost:8080/",
          "height": 569
        },
        "id": "CB_RVKsrp6Ke",
        "outputId": "3ff4b398-e1bf-49ad-c389-7fb3b9c48300"
      },
      "execution_count": 28,
      "outputs": [
        {
          "output_type": "stream",
          "name": "stderr",
          "text": [
            "WARNING:rpy2.rinterface_lib.callbacks:R[write to console]: `stat_bin()` using `bins = 30`. Pick better value with `binwidth`.\n",
            "\n",
            "WARNING:rpy2.rinterface_lib.callbacks:R[write to console]: `stat_bin()` using `bins = 30`. Pick better value with `binwidth`.\n",
            "\n"
          ]
        },
        {
          "output_type": "display_data",
          "data": {
            "image/png": "[encoded data removed]"
          },
          "metadata": {}
        }
      ]
    }
  ]
}